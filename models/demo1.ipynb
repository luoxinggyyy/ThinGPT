{
 "cells": [
  {
   "cell_type": "code",
   "execution_count": 4,
   "metadata": {},
   "outputs": [
    {
     "name": "stdout",
     "output_type": "stream",
     "text": [
      "编号和重命名完成，文件列表已保存到：C:/Users\\dell/Desktop/datasets/text/demo.txt\n"
     ]
    }
   ],
   "source": [
    "\n",
    "import os\n",
    "image_folder = 'C:/Users/dell/Desktop/datasets/image'\n",
    "output_file = 'C:/Users\\dell/Desktop/datasets/text/demo.txt'\n",
    "files = os.listdir(image_folder)\n",
    "image_files = [file for file in files if file.lower().endswith(('.jpg', '.jpeg', '.png', '.gif', '.bmp'))]\n",
    "image_files.sort()\n",
    "with open(output_file, 'w') as f:\n",
    "    for index, image_file in enumerate(image_files, start=1):\n",
    "        extension = os.path.splitext(image_file)[1]\n",
    "        new_filename = f\"{index:04d}{extension}\"\n",
    "\n",
    "        new_filepath = os.path.join(image_folder, new_filename)\n",
    "\n",
    "        f.write(f\"{index:04d} - {image_file}\\n\")\n",
    "        os.rename(os.path.join(image_folder, image_file), new_filepath)\n",
    "\n",
    "print(f\"编号和重命名完成，文件列表已保存到：{output_file}\")"
   ]
  }
 ],
 "metadata": {
  "kernelspec": {
   "display_name": "clipgpu",
   "language": "python",
   "name": "python3"
  },
  "language_info": {
   "codemirror_mode": {
    "name": "ipython",
    "version": 3
   },
   "file_extension": ".py",
   "mimetype": "text/x-python",
   "name": "python",
   "nbconvert_exporter": "python",
   "pygments_lexer": "ipython3",
   "version": "3.8.19"
  }
 },
 "nbformat": 4,
 "nbformat_minor": 2
}
